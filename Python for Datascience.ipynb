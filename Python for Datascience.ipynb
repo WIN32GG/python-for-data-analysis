{
 "cells": [
  {
   "cell_type": "markdown",
   "metadata": {},
   "source": [
    "# Python for DataScience assignement\n",
    "Dataset used: https://archive.ics.uci.edu/ml/machine-learning-databases/00193/CTG.xls"
   ]
  },
  {
   "cell_type": "markdown",
   "metadata": {},
   "source": [
    "## 1. Imports"
   ]
  },
  {
   "cell_type": "code",
   "execution_count": 1,
   "metadata": {},
   "outputs": [],
   "source": [
    "import pandas as pd\n",
    "import matplotlib.pyplot as plt\n",
    "import numpy as np\n",
    "from sklearn import tree\n",
    "from sklearn.ensemble import GradientBoostingClassifier\n",
    "from sklearn.model_selection import train_test_split, cross_val_score, GridSearchCV\n",
    "import pickle\n",
    "import warnings\n",
    "warnings.filterwarnings('ignore')\n",
    "%matplotlib inline "
   ]
  },
  {
   "cell_type": "markdown",
   "metadata": {},
   "source": [
    "## 2. Loading and cleaning the dataset"
   ]
  },
  {
   "cell_type": "code",
   "execution_count": 2,
   "metadata": {},
   "outputs": [
    {
     "name": "stdout",
     "output_type": "stream",
     "text": [
      "       b       e   AC   FM   UC   DL   DS   DP   DR     LB ...     C    D  \\\n",
      "0  240.0   357.0  0.0  0.0  0.0  0.0  0.0  0.0  0.0  120.0 ...  -1.0 -1.0   \n",
      "1    5.0   632.0  4.0  0.0  4.0  2.0  0.0  0.0  0.0  132.0 ...  -1.0 -1.0   \n",
      "2  177.0   779.0  2.0  0.0  5.0  2.0  0.0  0.0  0.0  133.0 ...  -1.0 -1.0   \n",
      "3  411.0  1192.0  2.0  0.0  6.0  2.0  0.0  0.0  0.0  134.0 ...  -1.0 -1.0   \n",
      "4  533.0  1147.0  4.0  0.0  5.0  0.0  0.0  0.0  0.0  132.0 ...  -1.0 -1.0   \n",
      "\n",
      "     E   AD   DE   LD   FS  SUSP  CLASS  NSP  \n",
      "0 -1.0 -1.0 -1.0 -1.0  1.0  -1.0    9.0  2.0  \n",
      "1 -1.0  1.0 -1.0 -1.0 -1.0  -1.0    6.0  1.0  \n",
      "2 -1.0  1.0 -1.0 -1.0 -1.0  -1.0    6.0  1.0  \n",
      "3 -1.0  1.0 -1.0 -1.0 -1.0  -1.0    6.0  1.0  \n",
      "4 -1.0 -1.0 -1.0 -1.0 -1.0  -1.0    2.0  1.0  \n",
      "\n",
      "[5 rows x 42 columns]\n"
     ]
    }
   ],
   "source": [
    "df = pd.read_excel(\"dataset.xls\", 1, 1)\n",
    "# Removed useless col\n",
    "df = df.drop([\"Unnamed: 9\", \"Unnamed: 31\", \"Unnamed: 42\", \"Unnamed: 44\"], axis = 1)\n",
    "df = df.dropna() # remove NaN \n",
    "print(df.head())"
   ]
  },
  {
   "cell_type": "markdown",
   "metadata": {},
   "source": [
    "## 3. Dataset Visualisation"
   ]
  },
  {
   "cell_type": "markdown",
   "metadata": {},
   "source": [
    "The target classes are ```NSP``` or ```CLASS``` we will do a classification on ```NSP```, let's see the classes repartition in the dataset"
   ]
  },
  {
   "cell_type": "code",
   "execution_count": 3,
   "metadata": {},
   "outputs": [
    {
     "data": {
      "image/png": "[encoded data removed]",
      "text/plain": [
       "<Figure size 432x288 with 1 Axes>"
      ]
     },
     "metadata": {
      "needs_background": "light"
     },
     "output_type": "display_data"
    }
   ],
   "source": [
    "_ = df['NSP'].value_counts().plot(kind='bar')"
   ]
  },
  {
   "cell_type": "code",
   "execution_count": 4,
   "metadata": {},
   "outputs": [
    {
     "data": {
      "image/png": "[encoded data removed]",
      "text/plain": [
       "<Figure size 432x288 with 1 Axes>"
      ]
     },
     "metadata": {
      "needs_background": "light"
     },
     "output_type": "display_data"
    }
   ],
   "source": [
    "_ = df['CLASS'].value_counts().plot(kind='bar')"
   ]
  },
  {
   "cell_type": "markdown",
   "metadata": {},
   "source": [
    "The class 1 is far more populated than the others, given the nature of the dataset it can be because most of the tested population was healthy. It however will a problem to train a model. \n",
    "\n",
    "There are two things we can do at this point:\n",
    "* Add more data in the less represented classes, by generating it or crossing multiple datasets\n",
    "* Delete data in the over represented classes \n",
    "\n",
    "But the dataset is imposed and shouldn't be tempered with."
   ]
  },
  {
   "cell_type": "markdown",
   "metadata": {},
   "source": [
    "## 4. Preparing Dataset"
   ]
  },
  {
   "cell_type": "code",
   "execution_count": 6,
   "metadata": {},
   "outputs": [
    {
     "data": {
      "text/html": [
       "<div>\n",
       "<style scoped>\n",
       "    .dataframe tbody tr th:only-of-type {\n",
       "        vertical-align: middle;\n",
       "    }\n",
       "\n",
       "    .dataframe tbody tr th {\n",
       "        vertical-align: top;\n",
       "    }\n",
       "\n",
       "    .dataframe thead th {\n",
       "        text-align: right;\n",
       "    }\n",
       "</style>\n",
       "<table border=\"1\" class=\"dataframe\">\n",
       "  <thead>\n",
       "    <tr style=\"text-align: right;\">\n",
       "      <th></th>\n",
       "      <th>LB</th>\n",
       "      <th>AC.1</th>\n",
       "      <th>FM.1</th>\n",
       "      <th>UC.1</th>\n",
       "      <th>DL.1</th>\n",
       "      <th>DS.1</th>\n",
       "      <th>DP.1</th>\n",
       "      <th>ASTV</th>\n",
       "      <th>MSTV</th>\n",
       "      <th>ALTV</th>\n",
       "      <th>...</th>\n",
       "      <th>Width</th>\n",
       "      <th>Min</th>\n",
       "      <th>Max</th>\n",
       "      <th>Nmax</th>\n",
       "      <th>Nzeros</th>\n",
       "      <th>Mode</th>\n",
       "      <th>Mean</th>\n",
       "      <th>Median</th>\n",
       "      <th>Variance</th>\n",
       "      <th>Tendency</th>\n",
       "    </tr>\n",
       "  </thead>\n",
       "  <tbody>\n",
       "    <tr>\n",
       "      <th>1267</th>\n",
       "      <td>119.0</td>\n",
       "      <td>0.000000</td>\n",
       "      <td>0.000000</td>\n",
       "      <td>0.002577</td>\n",
       "      <td>0.0</td>\n",
       "      <td>0.0</td>\n",
       "      <td>0.0</td>\n",
       "      <td>23.0</td>\n",
       "      <td>1.5</td>\n",
       "      <td>0.0</td>\n",
       "      <td>...</td>\n",
       "      <td>39.0</td>\n",
       "      <td>106.0</td>\n",
       "      <td>145.0</td>\n",
       "      <td>3.0</td>\n",
       "      <td>1.0</td>\n",
       "      <td>125.0</td>\n",
       "      <td>124.0</td>\n",
       "      <td>126.0</td>\n",
       "      <td>3.0</td>\n",
       "      <td>0.0</td>\n",
       "    </tr>\n",
       "    <tr>\n",
       "      <th>1224</th>\n",
       "      <td>135.0</td>\n",
       "      <td>0.006633</td>\n",
       "      <td>0.000000</td>\n",
       "      <td>0.006633</td>\n",
       "      <td>0.0</td>\n",
       "      <td>0.0</td>\n",
       "      <td>0.0</td>\n",
       "      <td>47.0</td>\n",
       "      <td>0.8</td>\n",
       "      <td>2.0</td>\n",
       "      <td>...</td>\n",
       "      <td>39.0</td>\n",
       "      <td>120.0</td>\n",
       "      <td>159.0</td>\n",
       "      <td>1.0</td>\n",
       "      <td>0.0</td>\n",
       "      <td>139.0</td>\n",
       "      <td>139.0</td>\n",
       "      <td>141.0</td>\n",
       "      <td>3.0</td>\n",
       "      <td>0.0</td>\n",
       "    </tr>\n",
       "    <tr>\n",
       "      <th>1173</th>\n",
       "      <td>126.0</td>\n",
       "      <td>0.000000</td>\n",
       "      <td>0.000000</td>\n",
       "      <td>0.005464</td>\n",
       "      <td>0.0</td>\n",
       "      <td>0.0</td>\n",
       "      <td>0.0</td>\n",
       "      <td>23.0</td>\n",
       "      <td>1.4</td>\n",
       "      <td>0.0</td>\n",
       "      <td>...</td>\n",
       "      <td>42.0</td>\n",
       "      <td>101.0</td>\n",
       "      <td>143.0</td>\n",
       "      <td>3.0</td>\n",
       "      <td>0.0</td>\n",
       "      <td>126.0</td>\n",
       "      <td>128.0</td>\n",
       "      <td>129.0</td>\n",
       "      <td>2.0</td>\n",
       "      <td>0.0</td>\n",
       "    </tr>\n",
       "    <tr>\n",
       "      <th>485</th>\n",
       "      <td>143.0</td>\n",
       "      <td>0.000000</td>\n",
       "      <td>0.001439</td>\n",
       "      <td>0.000000</td>\n",
       "      <td>0.0</td>\n",
       "      <td>0.0</td>\n",
       "      <td>0.0</td>\n",
       "      <td>64.0</td>\n",
       "      <td>0.4</td>\n",
       "      <td>19.0</td>\n",
       "      <td>...</td>\n",
       "      <td>17.0</td>\n",
       "      <td>137.0</td>\n",
       "      <td>154.0</td>\n",
       "      <td>2.0</td>\n",
       "      <td>0.0</td>\n",
       "      <td>144.0</td>\n",
       "      <td>144.0</td>\n",
       "      <td>145.0</td>\n",
       "      <td>0.0</td>\n",
       "      <td>0.0</td>\n",
       "    </tr>\n",
       "    <tr>\n",
       "      <th>1250</th>\n",
       "      <td>112.0</td>\n",
       "      <td>0.007663</td>\n",
       "      <td>0.000000</td>\n",
       "      <td>0.005747</td>\n",
       "      <td>0.0</td>\n",
       "      <td>0.0</td>\n",
       "      <td>0.0</td>\n",
       "      <td>25.0</td>\n",
       "      <td>1.3</td>\n",
       "      <td>0.0</td>\n",
       "      <td>...</td>\n",
       "      <td>37.0</td>\n",
       "      <td>105.0</td>\n",
       "      <td>142.0</td>\n",
       "      <td>1.0</td>\n",
       "      <td>0.0</td>\n",
       "      <td>114.0</td>\n",
       "      <td>115.0</td>\n",
       "      <td>115.0</td>\n",
       "      <td>4.0</td>\n",
       "      <td>-1.0</td>\n",
       "    </tr>\n",
       "  </tbody>\n",
       "</table>\n",
       "<p>5 rows × 21 columns</p>\n",
       "</div>"
      ],
      "text/plain": [
       "         LB      AC.1      FM.1      UC.1  DL.1  DS.1  DP.1  ASTV  MSTV  ALTV  \\\n",
       "1267  119.0  0.000000  0.000000  0.002577   0.0   0.0   0.0  23.0   1.5   0.0   \n",
       "1224  135.0  0.006633  0.000000  0.006633   0.0   0.0   0.0  47.0   0.8   2.0   \n",
       "1173  126.0  0.000000  0.000000  0.005464   0.0   0.0   0.0  23.0   1.4   0.0   \n",
       "485   143.0  0.000000  0.001439  0.000000   0.0   0.0   0.0  64.0   0.4  19.0   \n",
       "1250  112.0  0.007663  0.000000  0.005747   0.0   0.0   0.0  25.0   1.3   0.0   \n",
       "\n",
       "        ...     Width    Min    Max  Nmax  Nzeros   Mode   Mean  Median  \\\n",
       "1267    ...      39.0  106.0  145.0   3.0     1.0  125.0  124.0   126.0   \n",
       "1224    ...      39.0  120.0  159.0   1.0     0.0  139.0  139.0   141.0   \n",
       "1173    ...      42.0  101.0  143.0   3.0     0.0  126.0  128.0   129.0   \n",
       "485     ...      17.0  137.0  154.0   2.0     0.0  144.0  144.0   145.0   \n",
       "1250    ...      37.0  105.0  142.0   1.0     0.0  114.0  115.0   115.0   \n",
       "\n",
       "      Variance  Tendency  \n",
       "1267       3.0       0.0  \n",
       "1224       3.0       0.0  \n",
       "1173       2.0       0.0  \n",
       "485        0.0       0.0  \n",
       "1250       4.0      -1.0  \n",
       "\n",
       "[5 rows x 21 columns]"
      ]
     },
     "execution_count": 6,
     "metadata": {},
     "output_type": "execute_result"
    }
   ],
   "source": [
    "# Split the dataset \n",
    "train_dataset, test_dataset = train_test_split(df)\n",
    "\n",
    "X_train = train_dataset.iloc[:, 9:30] # Select the features\n",
    "Y_train = train_dataset['NSP']\n",
    "\n",
    "X_test  = test_dataset.iloc[:, 9:30]\n",
    "Y_test  = test_dataset['NSP']\n",
    "\n",
    "X_train.head()"
   ]
  },
  {
   "cell_type": "markdown",
   "metadata": {},
   "source": [
    "## 5. Models"
   ]
  },
  {
   "cell_type": "markdown",
   "metadata": {},
   "source": [
    "Because we have such an unbalanced dataset, we will try a decision tree with a grid search and a xgboost because these techniques are less affected than other techniques."
   ]
  },
  {
   "cell_type": "code",
   "execution_count": 7,
   "metadata": {},
   "outputs": [],
   "source": [
    "# We will use a simple decision tree to classify\n",
    "tcl = tree.DecisionTreeClassifier()\n",
    "#print(tcl.get_params().keys()) # helps to see what you can do\n",
    "parameters = {'max_features': np.arange(1, 10), 'max_depth': np.arange(1, 10),\n",
    "              'max_leaf_nodes': np.arange(2, 10), 'min_samples_leaf': np.arange(1, 10)}\n",
    "\n",
    "tcl_grid = GridSearchCV(tcl, parameters)\n",
    "tcl_grid = tcl_grid.fit(X_train, Y_train)"
   ]
  },
  {
   "cell_type": "code",
   "execution_count": 27,
   "metadata": {},
   "outputs": [
    {
     "name": "stdout",
     "output_type": "stream",
     "text": [
      "DecisionTree cross_val test  score: between 87% and 88% Mean: 88%\n"
     ]
    }
   ],
   "source": [
    "test_result  = np.array(cross_val_score(tcl_grid, X_test,  Y_test))\n",
    "\n",
    "print(\"DecisionTree cross_val test  score: between \"+str(int(min(test_result)*100))+\"% and \"+str(int(max(test_result)*100))+\"% Mean: \"+str(int(test_result.mean()*100))+\"%\")"
   ]
  },
  {
   "cell_type": "code",
   "execution_count": 8,
   "metadata": {},
   "outputs": [
    {
     "name": "stdout",
     "output_type": "stream",
     "text": [
      "XGBoost cross_val test score: between 89% and 93% Mean: 91%\n"
     ]
    }
   ],
   "source": [
    "xgb = GradientBoostingClassifier()\n",
    "xgb = xgb.fit(X_train, Y_train)\n",
    "\n",
    "xgb_score = np.array(cross_val_score(xgb, X_test, Y_test))\n",
    "\n",
    "print(\"XGBoost cross_val test score: between \"+str(int(min(xgb_score)*100))+\"% and \"+str(int(max(xgb_score)*100))+\"% Mean: \"+str(int(xgb_score.mean()*100))+\"%\")"
   ]
  },
  {
   "cell_type": "markdown",
   "metadata": {},
   "source": [
    "Even with a unevenly distributed dataset, xgboost still manages to yield a 91% accuracy. Let's save the model to use it later in a web API."
   ]
  },
  {
   "cell_type": "markdown",
   "metadata": {},
   "source": [
    "## 6. Saving"
   ]
  },
  {
   "cell_type": "code",
   "execution_count": 9,
   "metadata": {},
   "outputs": [],
   "source": [
    "model = pickle.dumps(xgb)\n",
    "with open('model.pck', 'wb') as fd:\n",
    "    fd.write(model)"
   ]
  }
 ],
 "metadata": {
  "kernelspec": {
   "display_name": "Python 3",
   "language": "python",
   "name": "python3"
  },
  "language_info": {
   "codemirror_mode": {
    "name": "ipython",
    "version": 3
   },
   "file_extension": ".py",
   "mimetype": "text/x-python",
   "name": "python",
   "nbconvert_exporter": "python",
   "pygments_lexer": "ipython3",
   "version": "3.7.2"
  }
 },
 "nbformat": 4,
 "nbformat_minor": 2
}
