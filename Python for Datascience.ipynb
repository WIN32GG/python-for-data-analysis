{
 "cells": [
  {
   "cell_type": "markdown",
   "metadata": {},
   "source": [
    "# Python for DataScience assignement\n",
    "Dataset used: https://archive.ics.uci.edu/ml/machine-learning-databases/00193/CTG.xls"
   ]
  },
  {
   "cell_type": "markdown",
   "metadata": {},
   "source": [
    "## 1. Imports"
   ]
  },
  {
   "cell_type": "code",
   "execution_count": 1,
   "metadata": {},
   "outputs": [],
   "source": [
    "import pandas as pd\n",
    "import matplotlib.pyplot as plt\n",
    "import numpy as np\n",
    "from sklearn import tree\n",
    "from sklearn.ensemble import GradientBoostingClassifier\n",
    "from sklearn.model_selection import train_test_split, cross_val_score, GridSearchCV\n",
    "from sklearn.metrics import roc_curve\n",
    "import pickle\n",
    "import warnings\n",
    "warnings.filterwarnings('ignore')\n",
    "%matplotlib inline "
   ]
  },
  {
   "cell_type": "markdown",
   "metadata": {},
   "source": [
    "## 2. Loading and cleaning the dataset"
   ]
  },
  {
   "cell_type": "code",
   "execution_count": 2,
   "metadata": {},
   "outputs": [
    {
     "name": "stdout",
     "output_type": "stream",
     "text": [
      "       b       e   AC   FM   UC   DL   DS   DP   DR     LB ...     C    D  \\\n",
      "0  240.0   357.0  0.0  0.0  0.0  0.0  0.0  0.0  0.0  120.0 ...  -1.0 -1.0   \n",
      "1    5.0   632.0  4.0  0.0  4.0  2.0  0.0  0.0  0.0  132.0 ...  -1.0 -1.0   \n",
      "2  177.0   779.0  2.0  0.0  5.0  2.0  0.0  0.0  0.0  133.0 ...  -1.0 -1.0   \n",
      "3  411.0  1192.0  2.0  0.0  6.0  2.0  0.0  0.0  0.0  134.0 ...  -1.0 -1.0   \n",
      "4  533.0  1147.0  4.0  0.0  5.0  0.0  0.0  0.0  0.0  132.0 ...  -1.0 -1.0   \n",
      "\n",
      "     E   AD   DE   LD   FS  SUSP  CLASS  NSP  \n",
      "0 -1.0 -1.0 -1.0 -1.0  1.0  -1.0    9.0  2.0  \n",
      "1 -1.0  1.0 -1.0 -1.0 -1.0  -1.0    6.0  1.0  \n",
      "2 -1.0  1.0 -1.0 -1.0 -1.0  -1.0    6.0  1.0  \n",
      "3 -1.0  1.0 -1.0 -1.0 -1.0  -1.0    6.0  1.0  \n",
      "4 -1.0 -1.0 -1.0 -1.0 -1.0  -1.0    2.0  1.0  \n",
      "\n",
      "[5 rows x 42 columns]\n"
     ]
    }
   ],
   "source": [
    "df = pd.read_excel(\"dataset.xls\", 1, 1)\n",
    "# Removed useless col\n",
    "df = df.drop([\"Unnamed: 9\", \"Unnamed: 31\", \"Unnamed: 42\", \"Unnamed: 44\"], axis = 1)\n",
    "df = df.dropna() # remove NaN \n",
    "print(df.head())"
   ]
  },
  {
   "cell_type": "markdown",
   "metadata": {},
   "source": [
    "## 3. Dataset Visualisation"
   ]
  },
  {
   "cell_type": "markdown",
   "metadata": {},
   "source": [
    "Let's see the corelation matrix between the features and the ```NSP``` class. "
   ]
  },
  {
   "cell_type": "code",
   "execution_count": 3,
   "metadata": {},
   "outputs": [
    {
     "name": "stdout",
     "output_type": "stream",
     "text": [
      "['LB', 'AC.1', 'FM.1', 'UC.1', 'DL.1', 'DS.1', 'DP.1', 'ASTV', 'MSTV', 'ALTV', 'MLTV', 'Width', 'Min', 'Max', 'Nmax', 'Nzeros', 'Mode', 'Mean', 'Median', 'Variance', 'Tendency', 'NSP']\n"
     ]
    },
    {
     "data": {
      "image/png": "[encoded data removed]",
      "text/plain": [
       "<Figure size 288x288 with 1 Axes>"
      ]
     },
     "metadata": {
      "needs_background": "light"
     },
     "output_type": "display_data"
    }
   ],
   "source": [
    "cor = df.iloc[:, 9:30]\n",
    "cor['NSP'] = df['NSP']\n",
    "print(list(cor.columns))\n",
    "_ = plt.matshow(cor.corr())"
   ]
  },
  {
   "cell_type": "markdown",
   "metadata": {},
   "source": [
    "The target classes are ```NSP``` or ```CLASS``` we will do a classification on ```NSP```, let's see the classes repartition in the dataset"
   ]
  },
  {
   "cell_type": "code",
   "execution_count": 4,
   "metadata": {},
   "outputs": [
    {
     "data": {
      "image/png": "[encoded data removed]",
      "text/plain": [
       "<Figure size 432x288 with 1 Axes>"
      ]
     },
     "metadata": {
      "needs_background": "light"
     },
     "output_type": "display_data"
    }
   ],
   "source": [
    "_ = df['NSP'].value_counts().plot(kind='bar')"
   ]
  },
  {
   "cell_type": "code",
   "execution_count": 5,
   "metadata": {},
   "outputs": [
    {
     "data": {
      "image/png": "[encoded data removed]",
      "text/plain": [
       "<Figure size 432x288 with 1 Axes>"
      ]
     },
     "metadata": {
      "needs_background": "light"
     },
     "output_type": "display_data"
    }
   ],
   "source": [
    "_ = df['CLASS'].value_counts().plot(kind='bar')"
   ]
  },
  {
   "cell_type": "markdown",
   "metadata": {},
   "source": [
    "The class 1 is far more populated than the others, given the nature of the dataset it can be because most of the tested population was healthy. It however will a problem to train a model. \n",
    "\n",
    "There are two things we can do at this point:\n",
    "* Add more data in the less represented classes, by generating it or crossing multiple datasets\n",
    "* Delete data in the over represented classes \n",
    "\n",
    "But the dataset is imposed and shouldn't be tempered with."
   ]
  },
  {
   "cell_type": "markdown",
   "metadata": {},
   "source": [
    "## 4. Preparing Dataset"
   ]
  },
  {
   "cell_type": "code",
   "execution_count": 6,
   "metadata": {},
   "outputs": [
    {
     "data": {
      "text/html": [
       "<div>\n",
       "<style scoped>\n",
       "    .dataframe tbody tr th:only-of-type {\n",
       "        vertical-align: middle;\n",
       "    }\n",
       "\n",
       "    .dataframe tbody tr th {\n",
       "        vertical-align: top;\n",
       "    }\n",
       "\n",
       "    .dataframe thead th {\n",
       "        text-align: right;\n",
       "    }\n",
       "</style>\n",
       "<table border=\"1\" class=\"dataframe\">\n",
       "  <thead>\n",
       "    <tr style=\"text-align: right;\">\n",
       "      <th></th>\n",
       "      <th>LB</th>\n",
       "      <th>AC.1</th>\n",
       "      <th>FM.1</th>\n",
       "      <th>UC.1</th>\n",
       "      <th>DL.1</th>\n",
       "      <th>DS.1</th>\n",
       "      <th>DP.1</th>\n",
       "      <th>ASTV</th>\n",
       "      <th>MSTV</th>\n",
       "      <th>ALTV</th>\n",
       "      <th>...</th>\n",
       "      <th>Width</th>\n",
       "      <th>Min</th>\n",
       "      <th>Max</th>\n",
       "      <th>Nmax</th>\n",
       "      <th>Nzeros</th>\n",
       "      <th>Mode</th>\n",
       "      <th>Mean</th>\n",
       "      <th>Median</th>\n",
       "      <th>Variance</th>\n",
       "      <th>Tendency</th>\n",
       "    </tr>\n",
       "  </thead>\n",
       "  <tbody>\n",
       "    <tr>\n",
       "      <th>1720</th>\n",
       "      <td>131.0</td>\n",
       "      <td>0.007913</td>\n",
       "      <td>0.000000</td>\n",
       "      <td>0.004946</td>\n",
       "      <td>0.000989</td>\n",
       "      <td>0.0</td>\n",
       "      <td>0.0</td>\n",
       "      <td>54.0</td>\n",
       "      <td>1.6</td>\n",
       "      <td>0.0</td>\n",
       "      <td>...</td>\n",
       "      <td>56.0</td>\n",
       "      <td>111.0</td>\n",
       "      <td>167.0</td>\n",
       "      <td>2.0</td>\n",
       "      <td>0.0</td>\n",
       "      <td>138.0</td>\n",
       "      <td>139.0</td>\n",
       "      <td>141.0</td>\n",
       "      <td>8.0</td>\n",
       "      <td>0.0</td>\n",
       "    </tr>\n",
       "    <tr>\n",
       "      <th>1242</th>\n",
       "      <td>115.0</td>\n",
       "      <td>0.000000</td>\n",
       "      <td>0.000000</td>\n",
       "      <td>0.005386</td>\n",
       "      <td>0.001795</td>\n",
       "      <td>0.0</td>\n",
       "      <td>0.0</td>\n",
       "      <td>20.0</td>\n",
       "      <td>1.7</td>\n",
       "      <td>0.0</td>\n",
       "      <td>...</td>\n",
       "      <td>59.0</td>\n",
       "      <td>89.0</td>\n",
       "      <td>148.0</td>\n",
       "      <td>1.0</td>\n",
       "      <td>1.0</td>\n",
       "      <td>120.0</td>\n",
       "      <td>118.0</td>\n",
       "      <td>121.0</td>\n",
       "      <td>4.0</td>\n",
       "      <td>0.0</td>\n",
       "    </tr>\n",
       "    <tr>\n",
       "      <th>930</th>\n",
       "      <td>122.0</td>\n",
       "      <td>0.004745</td>\n",
       "      <td>0.000000</td>\n",
       "      <td>0.005931</td>\n",
       "      <td>0.000000</td>\n",
       "      <td>0.0</td>\n",
       "      <td>0.0</td>\n",
       "      <td>34.0</td>\n",
       "      <td>1.0</td>\n",
       "      <td>0.0</td>\n",
       "      <td>...</td>\n",
       "      <td>53.0</td>\n",
       "      <td>97.0</td>\n",
       "      <td>150.0</td>\n",
       "      <td>3.0</td>\n",
       "      <td>1.0</td>\n",
       "      <td>133.0</td>\n",
       "      <td>132.0</td>\n",
       "      <td>134.0</td>\n",
       "      <td>3.0</td>\n",
       "      <td>1.0</td>\n",
       "    </tr>\n",
       "    <tr>\n",
       "      <th>814</th>\n",
       "      <td>146.0</td>\n",
       "      <td>0.003361</td>\n",
       "      <td>0.000000</td>\n",
       "      <td>0.003361</td>\n",
       "      <td>0.003361</td>\n",
       "      <td>0.0</td>\n",
       "      <td>0.0</td>\n",
       "      <td>28.0</td>\n",
       "      <td>1.6</td>\n",
       "      <td>0.0</td>\n",
       "      <td>...</td>\n",
       "      <td>93.0</td>\n",
       "      <td>80.0</td>\n",
       "      <td>173.0</td>\n",
       "      <td>4.0</td>\n",
       "      <td>0.0</td>\n",
       "      <td>148.0</td>\n",
       "      <td>148.0</td>\n",
       "      <td>151.0</td>\n",
       "      <td>28.0</td>\n",
       "      <td>1.0</td>\n",
       "    </tr>\n",
       "    <tr>\n",
       "      <th>500</th>\n",
       "      <td>131.0</td>\n",
       "      <td>0.014178</td>\n",
       "      <td>0.015013</td>\n",
       "      <td>0.000834</td>\n",
       "      <td>0.000000</td>\n",
       "      <td>0.0</td>\n",
       "      <td>0.0</td>\n",
       "      <td>29.0</td>\n",
       "      <td>3.7</td>\n",
       "      <td>0.0</td>\n",
       "      <td>...</td>\n",
       "      <td>120.0</td>\n",
       "      <td>51.0</td>\n",
       "      <td>171.0</td>\n",
       "      <td>11.0</td>\n",
       "      <td>1.0</td>\n",
       "      <td>150.0</td>\n",
       "      <td>144.0</td>\n",
       "      <td>151.0</td>\n",
       "      <td>33.0</td>\n",
       "      <td>1.0</td>\n",
       "    </tr>\n",
       "  </tbody>\n",
       "</table>\n",
       "<p>5 rows × 21 columns</p>\n",
       "</div>"
      ],
      "text/plain": [
       "         LB      AC.1      FM.1      UC.1      DL.1  DS.1  DP.1  ASTV  MSTV  \\\n",
       "1720  131.0  0.007913  0.000000  0.004946  0.000989   0.0   0.0  54.0   1.6   \n",
       "1242  115.0  0.000000  0.000000  0.005386  0.001795   0.0   0.0  20.0   1.7   \n",
       "930   122.0  0.004745  0.000000  0.005931  0.000000   0.0   0.0  34.0   1.0   \n",
       "814   146.0  0.003361  0.000000  0.003361  0.003361   0.0   0.0  28.0   1.6   \n",
       "500   131.0  0.014178  0.015013  0.000834  0.000000   0.0   0.0  29.0   3.7   \n",
       "\n",
       "      ALTV    ...     Width    Min    Max  Nmax  Nzeros   Mode   Mean  Median  \\\n",
       "1720   0.0    ...      56.0  111.0  167.0   2.0     0.0  138.0  139.0   141.0   \n",
       "1242   0.0    ...      59.0   89.0  148.0   1.0     1.0  120.0  118.0   121.0   \n",
       "930    0.0    ...      53.0   97.0  150.0   3.0     1.0  133.0  132.0   134.0   \n",
       "814    0.0    ...      93.0   80.0  173.0   4.0     0.0  148.0  148.0   151.0   \n",
       "500    0.0    ...     120.0   51.0  171.0  11.0     1.0  150.0  144.0   151.0   \n",
       "\n",
       "      Variance  Tendency  \n",
       "1720       8.0       0.0  \n",
       "1242       4.0       0.0  \n",
       "930        3.0       1.0  \n",
       "814       28.0       1.0  \n",
       "500       33.0       1.0  \n",
       "\n",
       "[5 rows x 21 columns]"
      ]
     },
     "execution_count": 6,
     "metadata": {},
     "output_type": "execute_result"
    }
   ],
   "source": [
    "# Split the dataset \n",
    "train_dataset, test_dataset = train_test_split(df)\n",
    "\n",
    "X_train = train_dataset.iloc[:, 9:30] # Select the features\n",
    "Y_train = train_dataset['NSP']\n",
    "\n",
    "X_test  = test_dataset.iloc[:, 9:30]\n",
    "Y_test  = test_dataset['NSP']\n",
    "\n",
    "X_train.head()"
   ]
  },
  {
   "cell_type": "markdown",
   "metadata": {},
   "source": [
    "## 5. Models"
   ]
  },
  {
   "cell_type": "markdown",
   "metadata": {},
   "source": [
    "Because we have such an unbalanced dataset, we will try a decision tree with a grid search and a xgboost because these techniques are less affected than other techniques."
   ]
  },
  {
   "cell_type": "code",
   "execution_count": 7,
   "metadata": {},
   "outputs": [],
   "source": [
    "# We will use a simple decision tree to classify\n",
    "tcl = tree.DecisionTreeClassifier()\n",
    "#print(tcl.get_params().keys()) # helps to see what you can do\n",
    "parameters = {'max_features': np.arange(1, 10), 'max_depth': np.arange(1, 10),\n",
    "              'max_leaf_nodes': np.arange(2, 10), 'min_samples_leaf': np.arange(1, 10)}\n",
    "\n",
    "tcl_grid = GridSearchCV(tcl, parameters)\n",
    "tcl_grid = tcl_grid.fit(X_train, Y_train)"
   ]
  },
  {
   "cell_type": "code",
   "execution_count": 8,
   "metadata": {},
   "outputs": [
    {
     "name": "stdout",
     "output_type": "stream",
     "text": [
      "DecisionTree cross_val test  score: between 79% and 88% Mean: 83%\n"
     ]
    }
   ],
   "source": [
    "test_result  = np.array(cross_val_score(tcl_grid, X_test,  Y_test))\n",
    "\n",
    "print(\"DecisionTree cross_val test  score: between \"+str(int(min(test_result)*100))+\"% and \"+str(int(max(test_result)*100))+\"% Mean: \"+str(int(test_result.mean()*100))+\"%\")"
   ]
  },
  {
   "cell_type": "code",
   "execution_count": 9,
   "metadata": {},
   "outputs": [
    {
     "name": "stdout",
     "output_type": "stream",
     "text": [
      "XGBoost cross_val test score: between 89% and 91% Mean: 90%\n"
     ]
    }
   ],
   "source": [
    "xgb = GradientBoostingClassifier()\n",
    "xgb = xgb.fit(X_train, Y_train)\n",
    "\n",
    "xgb_score = np.array(cross_val_score(xgb, X_test, Y_test))\n",
    "\n",
    "print(\"XGBoost cross_val test score: between \"+str(int(min(xgb_score)*100))+\"% and \"+str(int(max(xgb_score)*100))+\"% Mean: \"+str(int(xgb_score.mean()*100))+\"%\")"
   ]
  },
  {
   "cell_type": "markdown",
   "metadata": {},
   "source": [
    "Even with a unevenly distributed dataset, xgboost still manages to yield a 91% accuracy. Let's save the model to use it later in a web API."
   ]
  },
  {
   "cell_type": "markdown",
   "metadata": {},
   "source": [
    "#### ROC Curve\n",
    "\n",
    "Because our model predicts 3 classes we cannot make a roc curve directly instead, we will make a roc curve on wether a tested person is healthy or sick (aggregating the class 2 and 3). This is a binary prediciton and the roc curve associated is:"
   ]
  },
  {
   "cell_type": "code",
   "execution_count": 10,
   "metadata": {},
   "outputs": [
    {
     "data": {
      "image/png": "[encoded data removed]",
      "text/plain": [
       "<Figure size 432x288 with 1 Axes>"
      ]
     },
     "metadata": {
      "needs_background": "light"
     },
     "output_type": "display_data"
    }
   ],
   "source": [
    "Y_test_bin = Y_test.replace(3.0, 2.0)\n",
    "Y_pred_bin = xgb.predict(X_test)\n",
    "Y_pred_bin[Y_pred_bin > 2.0] = 2.0\n",
    "Y_test_bin -= 1\n",
    "Y_pred_bin -= 1\n",
    "\n",
    "fpr, tpr, _ = roc_curve(Y_test_bin, Y_pred_bin)\n",
    "plt.title(\"ROC Curve\")\n",
    "_ = plt.plot(fpr, tpr)"
   ]
  },
  {
   "cell_type": "markdown",
   "metadata": {},
   "source": [
    "This ROC curve is almost ideal and confirms the model strength"
   ]
  },
  {
   "cell_type": "markdown",
   "metadata": {},
   "source": [
    "## 6. Saving"
   ]
  },
  {
   "cell_type": "code",
   "execution_count": 11,
   "metadata": {},
   "outputs": [],
   "source": [
    "model = pickle.dumps(xgb)\n",
    "with open('model.pck', 'wb') as fd:\n",
    "    fd.write(model)"
   ]
  }
 ],
 "metadata": {
  "kernelspec": {
   "display_name": "Python 3",
   "language": "python",
   "name": "python3"
  },
  "language_info": {
   "codemirror_mode": {
    "name": "ipython",
    "version": 3
   },
   "file_extension": ".py",
   "mimetype": "text/x-python",
   "name": "python",
   "nbconvert_exporter": "python",
   "pygments_lexer": "ipython3",
   "version": "3.7.2"
  }
 },
 "nbformat": 4,
 "nbformat_minor": 2
}
